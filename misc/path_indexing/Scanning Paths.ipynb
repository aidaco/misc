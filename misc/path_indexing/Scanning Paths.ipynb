{
 "cells": [
  {
   "cell_type": "code",
   "execution_count": 1,
   "id": "60ceedca-96eb-4d60-9656-1d7f09d6a747",
   "metadata": {},
   "outputs": [],
   "source": [
    "import os\n",
    "import io\n",
    "from pathlib import Path\n",
    "import glob\n",
    "from cProfile import Profile\n",
    "import pstats\n",
    "import contextlib\n",
    "import time\n",
    "\n",
    "@contextlib.contextmanager\n",
    "def profiler(name):\n",
    "    try:\n",
    "        print(f'Profiling {name}')\n",
    "        pr = Profile()\n",
    "        pr.enable()\n",
    "        yield\n",
    "    finally:\n",
    "        pr.disable()\n",
    "        pstats.Stats(pr).sort_stats('cumtime').print_stats(15)\n",
    "\n",
    "def iterprofile(it, name):\n",
    "    print(f'{name} Iteration Profile')\n",
    "    start = time.perf_counter()\n",
    "    for i, _ in enumerate(it):\n",
    "        pass\n",
    "    print(\n",
    "        f'{i: >25} items''\\n'\n",
    "        f'{f\"{i/(time.perf_counter()-start):0.2f}\": >25} items/sec''\\n'\n",
    "        f'{f\"{time.perf_counter()-start:0.2f}\": >25} secs''\\n'\n",
    "    )\n",
    "\n",
    "def profile(gen):\n",
    "    with profiler(gen.__name__):\n",
    "        iterprofile(gen, gen.__name__)\n"
   ]
  },
  {
   "cell_type": "markdown",
   "id": "63fc3ebb-70ae-4bf0-b9fa-9121992fd749",
   "metadata": {},
   "source": [
    "## Comparing Standard Library Approaches\n",
    "\n",
    "- glob.glob\n",
    "- Path.glob\n",
    "- Path.iterdir\n",
    "- os.walk\n",
    "- os.scandir\n",
    "- os.listdir"
   ]
  },
  {
   "cell_type": "code",
   "execution_count": 2,
   "id": "98aea5d0-d0b4-435f-a7fb-4c6b65b47eab",
   "metadata": {},
   "outputs": [
    {
     "name": "stdout",
     "output_type": "stream",
     "text": [
      "Profiling globglob\n",
      "globglob Iteration Profile\n",
      "                    41882 items\n",
      "                 15675.13 items/sec\n",
      "                     2.67 secs\n",
      "\n",
      "         1023615 function calls (984793 primitive calls) in 2.672 seconds\n",
      "\n",
      "   Ordered by: cumulative time\n",
      "   List reduced from 100 to 15 due to restriction <15>\n",
      "\n",
      "   ncalls  tottime  percall  cumtime  percall filename:lineno(function)\n",
      "        1    0.051    0.051    2.672    2.672 /tmp/ipykernel_8719/1959693399.py:21(iterprofile)\n",
      "    41884    0.051    0.000    2.621    0.000 /tmp/ipykernel_8719/9649885.py:1(globglob)\n",
      "        1    0.053    0.053    2.570    2.570 /usr/lib/python3.10/glob.py:13(glob)\n",
      "46670/41884    0.138    0.000    2.517    0.000 /usr/lib/python3.10/glob.py:53(_iglob)\n",
      "    80694    0.534    0.000    1.119    0.000 /usr/lib/python3.10/posixpath.py:71(join)\n",
      "     4786    0.012    0.000    0.980    0.000 /usr/lib/python3.10/glob.py:121(_glob2)\n",
      "38812/4785    0.147    0.000    0.968    0.000 /usr/lib/python3.10/glob.py:167(_rlistdir)\n",
      "     4785    0.026    0.000    0.739    0.000 /usr/lib/python3.10/glob.py:93(_glob1)\n",
      "    38812    0.100    0.000    0.638    0.000 /usr/lib/python3.10/glob.py:199(_join)\n",
      "     9570    0.126    0.000    0.501    0.000 /usr/lib/python3.10/glob.py:162(_listdir)\n",
      "     4785    0.175    0.000    0.460    0.000 /usr/lib/python3.10/fnmatch.py:54(filter)\n",
      "    57026    0.215    0.000    0.314    0.000 /usr/lib/python3.10/glob.py:128(_iterdir)\n",
      "    80696    0.193    0.000    0.290    0.000 /usr/lib/python3.10/posixpath.py:41(_get_sep)\n",
      "    46668    0.109    0.000    0.161    0.000 /usr/lib/python3.10/glob.py:96(<genexpr>)\n",
      "    85482    0.101    0.000    0.101    0.000 {built-in method posix.fspath}\n",
      "\n",
      "\n"
     ]
    }
   ],
   "source": [
    "def globglob(root):\n",
    "    yield from glob.glob('**/*', root_dir=root, recursive=True)\n",
    "\n",
    "profile(globglob(Path.home()))"
   ]
  },
  {
   "cell_type": "code",
   "execution_count": 3,
   "id": "521c1f00-0350-4203-9f94-fcd1a339a28a",
   "metadata": {},
   "outputs": [
    {
     "name": "stdout",
     "output_type": "stream",
     "text": [
      "Profiling pathglob\n",
      "pathglob Iteration Profile\n",
      "                   818796 items\n",
      "                 16571.49 items/sec\n",
      "                    49.41 secs\n",
      "\n",
      "         16455575 function calls (15385141 primitive calls) in 49.410 seconds\n",
      "\n",
      "   Ordered by: cumulative time\n",
      "   List reduced from 72 to 15 due to restriction <15>\n",
      "\n",
      "   ncalls  tottime  percall  cumtime  percall filename:lineno(function)\n",
      "        1    1.052    1.052   49.410   49.410 /tmp/ipykernel_8719/1959693399.py:21(iterprofile)\n",
      "   818798    1.970    0.000   48.358    0.000 /tmp/ipykernel_8719/2926113733.py:1(pathglob)\n",
      "   818798    1.983    0.000   46.388    0.000 /usr/lib/python3.10/pathlib.py:1023(glob)\n",
      "   818798    4.480    0.000   44.405    0.000 /usr/lib/python3.10/pathlib.py:487(_select_from)\n",
      "   910384    9.372    0.000   19.486    0.000 /usr/lib/python3.10/pathlib.py:438(_select_from)\n",
      "  1637594    4.724    0.000   10.036    0.000 /usr/lib/python3.10/pathlib.py:668(__hash__)\n",
      "1162020/91588    4.911    0.000    7.954    0.000 /usr/lib/python3.10/pathlib.py:468(_iterate_directories)\n",
      "   910383    2.428    0.000    5.874    0.000 /usr/lib/python3.10/pathlib.py:966(_make_child_relpath)\n",
      "   818797    3.271    0.000    4.263    0.000 /usr/lib/python3.10/pathlib.py:654(_cparts)\n",
      "   910383    2.327    0.000    3.446    0.000 /usr/lib/python3.10/pathlib.py:600(_from_parsed_parts)\n",
      "   818797    1.962    0.000    2.972    0.000 {method 'add' of 'set' objects}\n",
      "   183174    0.964    0.000    2.478    0.000 {built-in method posix.scandir}\n",
      "  1637594    1.935    0.000    1.935    0.000 /usr/lib/python3.10/pathlib.py:412(_select_from)\n",
      "   183175    0.462    0.000    1.514    0.000 /usr/lib/python3.10/pathlib.py:631(__fspath__)\n",
      "   818797    1.379    0.000    1.379    0.000 {method 'is_dir' of 'posix.DirEntry' objects}\n",
      "\n",
      "\n"
     ]
    }
   ],
   "source": [
    "def pathglob(root):\n",
    "    root = Path(root)\n",
    "    yield from root.glob('**/*')\n",
    "\n",
    "profile(pathglob(Path.home()))"
   ]
  },
  {
   "cell_type": "code",
   "execution_count": 4,
   "id": "55e63edf-6170-4ecd-b3b9-7bd35ae4f72b",
   "metadata": {},
   "outputs": [
    {
     "name": "stdout",
     "output_type": "stream",
     "text": [
      "Profiling pathiter\n",
      "pathiter Iteration Profile\n",
      "                   818796 items\n",
      "                 23240.60 items/sec\n",
      "                    35.23 secs\n",
      "\n",
      "         11839744 function calls in 35.231 seconds\n",
      "\n",
      "   Ordered by: cumulative time\n",
      "   List reduced from 52 to 15 due to restriction <15>\n",
      "\n",
      "   ncalls  tottime  percall  cumtime  percall filename:lineno(function)\n",
      "        1    1.146    1.146   35.231   35.231 /tmp/ipykernel_8719/1959693399.py:21(iterprofile)\n",
      "   818798    3.567    0.000   34.085    0.000 /tmp/ipykernel_8719/4200615856.py:1(pathiter)\n",
      "   818797    3.222    0.000   19.703    0.000 /usr/lib/python3.10/pathlib.py:1300(is_dir)\n",
      "   910483    2.272    0.000   16.422    0.000 /usr/lib/python3.10/pathlib.py:1092(stat)\n",
      "   910483    5.796    0.000   14.150    0.000 {built-in method posix.stat}\n",
      "   910384    2.329    0.000    8.941    0.000 /usr/lib/python3.10/pathlib.py:1013(iterdir)\n",
      "  1002070    2.480    0.000    8.695    0.000 /usr/lib/python3.10/pathlib.py:631(__fspath__)\n",
      "  1002070    2.883    0.000    6.215    0.000 /usr/lib/python3.10/pathlib.py:621(__str__)\n",
      "   818797    2.170    0.000    5.298    0.000 /usr/lib/python3.10/pathlib.py:966(_make_child_relpath)\n",
      "   818798    2.237    0.000    3.332    0.000 /usr/lib/python3.10/pathlib.py:608(_format_parsed_parts)\n",
      "   818797    2.114    0.000    3.128    0.000 /usr/lib/python3.10/pathlib.py:600(_from_parsed_parts)\n",
      "    91686    0.359    0.000    1.655    0.000 /usr/lib/python3.10/pathlib.py:1353(is_symlink)\n",
      "    91587    0.973    0.000    1.314    0.000 {built-in method posix.listdir}\n",
      "    91686    0.238    0.000    1.184    0.000 /usr/lib/python3.10/pathlib.py:1217(lstat)\n",
      "   818798    1.095    0.000    1.095    0.000 {method 'join' of 'str' objects}\n",
      "\n",
      "\n"
     ]
    }
   ],
   "source": [
    "def pathiter(root):\n",
    "    root = Path(root)\n",
    "    dirs = [root]\n",
    "    while dirs:\n",
    "        for path in dirs.pop().iterdir():\n",
    "            yield path\n",
    "            if path.is_dir() and not path.is_symlink():\n",
    "                dirs.append(path)\n",
    "\n",
    "profile(pathiter(Path.home()))"
   ]
  },
  {
   "cell_type": "code",
   "execution_count": 5,
   "id": "615e140b-8674-4cef-b744-04cf10fb6e44",
   "metadata": {},
   "outputs": [
    {
     "name": "stdout",
     "output_type": "stream",
     "text": [
      "Profiling walk\n",
      "walk Iteration Profile\n",
      "                   818797 items\n",
      "                 46886.88 items/sec\n",
      "                    17.46 secs\n",
      "\n",
      "         6539177 function calls (5468745 primitive calls) in 17.463 seconds\n",
      "\n",
      "   Ordered by: cumulative time\n",
      "   List reduced from 45 to 15 due to restriction <15>\n",
      "\n",
      "   ncalls  tottime  percall  cumtime  percall filename:lineno(function)\n",
      "        1    1.038    1.038   17.463   17.463 /tmp/ipykernel_8719/1959693399.py:21(iterprofile)\n",
      "   818799    2.321    0.000   16.425    0.000 /tmp/ipykernel_8719/838407235.py:1(walk)\n",
      "1162020/91588    6.681    0.000   12.837    0.000 /usr/lib/python3.10/os.py:345(_walk)\n",
      "   910386    1.659    0.000    1.659    0.000 {built-in method builtins.next}\n",
      "    91686    0.621    0.000    1.299    0.000 /usr/lib/python3.10/posixpath.py:71(join)\n",
      "   818699    1.039    0.000    1.039    0.000 /tmp/ipykernel_8719/838407235.py:3(<genexpr>)\n",
      "   818798    1.024    0.000    1.024    0.000 {method 'is_dir' of 'posix.DirEntry' objects}\n",
      "   818798    0.961    0.000    0.961    0.000 {method 'append' of 'list' objects}\n",
      "    91686    0.355    0.000    0.777    0.000 /usr/lib/python3.10/posixpath.py:164(islink)\n",
      "    91686    0.221    0.000    0.334    0.000 /usr/lib/python3.10/posixpath.py:41(_get_sep)\n",
      "    91587    0.324    0.000    0.324    0.000 {built-in method posix.scandir}\n",
      "    91686    0.312    0.000    0.312    0.000 {built-in method posix.lstat}\n",
      "   183273    0.228    0.000    0.228    0.000 /tmp/ipykernel_8719/838407235.py:4(<genexpr>)\n",
      "    91686    0.118    0.000    0.118    0.000 {method 'startswith' of 'str' objects}\n",
      "    91686    0.115    0.000    0.115    0.000 {method 'endswith' of 'str' objects}\n",
      "\n",
      "\n"
     ]
    }
   ],
   "source": [
    "def walk(root):\n",
    "    for parent, files, dirs in os.walk(root):\n",
    "        yield from (parent+d for d in dirs)\n",
    "        yield from (parent+file for file in files)\n",
    "\n",
    "profile(walk(Path.home()))"
   ]
  },
  {
   "cell_type": "code",
   "execution_count": 6,
   "id": "842e0847-fa9e-46ec-bf81-f02ff8ef7988",
   "metadata": {},
   "outputs": [
    {
     "name": "stdout",
     "output_type": "stream",
     "text": [
      "Profiling scan\n",
      "scan Iteration Profile\n",
      "                   818797 items\n",
      "                140920.74 items/sec\n",
      "                     5.81 secs\n",
      "\n",
      "         2003998 function calls in 5.811 seconds\n",
      "\n",
      "   Ordered by: cumulative time\n",
      "   List reduced from 33 to 15 due to restriction <15>\n",
      "\n",
      "   ncalls  tottime  percall  cumtime  percall filename:lineno(function)\n",
      "        1    1.046    1.046    5.811    5.811 /tmp/ipykernel_8719/1959693399.py:21(iterprofile)\n",
      "   818799    3.124    0.000    4.765    0.000 /tmp/ipykernel_8719/2879618333.py:1(scan)\n",
      "   818798    0.973    0.000    0.973    0.000 {method 'is_dir' of 'posix.DirEntry' objects}\n",
      "    91587    0.341    0.000    0.341    0.000 {built-in method posix.scandir}\n",
      "    91587    0.112    0.000    0.112    0.000 {method '__exit__' of 'posix.ScandirIterator' objects}\n",
      "    91587    0.108    0.000    0.108    0.000 {method 'pop' of 'list' objects}\n",
      "    91586    0.107    0.000    0.107    0.000 {method 'append' of 'list' objects}\n",
      "        2    0.000    0.000    0.000    0.000 {built-in method builtins.print}\n",
      "        4    0.000    0.000    0.000    0.000 /home/aidan/.local/lib/python3.10/site-packages/ipykernel/iostream.py:518(write)\n",
      "        4    0.000    0.000    0.000    0.000 /home/aidan/.local/lib/python3.10/site-packages/ipykernel/iostream.py:448(_schedule_flush)\n",
      "        1    0.000    0.000    0.000    0.000 /home/aidan/.local/lib/python3.10/site-packages/ipykernel/iostream.py:202(schedule)\n",
      "        1    0.000    0.000    0.000    0.000 /usr/lib/python3.10/threading.py:1169(is_alive)\n",
      "        1    0.000    0.000    0.000    0.000 /usr/lib/python3.10/threading.py:1102(_wait_for_tstate_lock)\n",
      "        1    0.000    0.000    0.000    0.000 /home/aidan/.local/lib/python3.10/site-packages/zmq/sugar/socket.py:545(send)\n",
      "        4    0.000    0.000    0.000    0.000 /home/aidan/.local/lib/python3.10/site-packages/ipykernel/iostream.py:429(_is_master_process)\n",
      "\n",
      "\n"
     ]
    }
   ],
   "source": [
    "def scan(root):\n",
    "    dirs = [root]\n",
    "    while dirs:\n",
    "        with os.scandir(dirs.pop()) as directory:\n",
    "            for entry in directory:\n",
    "                yield entry.path\n",
    "                if entry.is_dir(follow_symlinks=False):\n",
    "                        dirs.append(entry.path)\n",
    "\n",
    "profile(scan(Path.home()))"
   ]
  },
  {
   "cell_type": "markdown",
   "id": "e9d8b2d1-be92-4778-8554-a3579f5cdf59",
   "metadata": {},
   "source": [
    "## Recursive vs. Iterative\n",
    "\n",
    "Quick sanity check."
   ]
  },
  {
   "cell_type": "code",
   "execution_count": 7,
   "id": "143cc631-3a6f-4016-9159-76a6152cd206",
   "metadata": {},
   "outputs": [
    {
     "name": "stdout",
     "output_type": "stream",
     "text": [
      "Profiling scan_recursive\n",
      "scan_recursive Iteration Profile\n",
      "                   818798 items\n",
      "                 37426.90 items/sec\n",
      "                    21.88 secs\n",
      "\n",
      "         8734484 function calls (1820827 primitive calls) in 21.877 seconds\n",
      "\n",
      "   Ordered by: cumulative time\n",
      "   List reduced from 31 to 15 due to restriction <15>\n",
      "\n",
      "   ncalls  tottime  percall  cumtime  percall filename:lineno(function)\n",
      "        1    1.073    1.073   21.877   21.877 /tmp/ipykernel_8719/1959693399.py:21(iterprofile)\n",
      "7732457/818800   19.371    0.000   20.804    0.000 /tmp/ipykernel_8719/2039648947.py:1(scan_recursive)\n",
      "   818799    0.937    0.000    0.937    0.000 {method 'is_dir' of 'posix.DirEntry' objects}\n",
      "    91587    0.385    0.000    0.385    0.000 {built-in method posix.scandir}\n",
      "    91587    0.111    0.000    0.111    0.000 {method '__exit__' of 'posix.ScandirIterator' objects}\n",
      "        2    0.000    0.000    0.000    0.000 {built-in method builtins.print}\n",
      "        4    0.000    0.000    0.000    0.000 /home/aidan/.local/lib/python3.10/site-packages/ipykernel/iostream.py:518(write)\n",
      "        4    0.000    0.000    0.000    0.000 /home/aidan/.local/lib/python3.10/site-packages/ipykernel/iostream.py:448(_schedule_flush)\n",
      "        1    0.000    0.000    0.000    0.000 /home/aidan/.local/lib/python3.10/site-packages/ipykernel/iostream.py:202(schedule)\n",
      "        1    0.000    0.000    0.000    0.000 /home/aidan/.local/lib/python3.10/site-packages/zmq/sugar/socket.py:545(send)\n",
      "        4    0.000    0.000    0.000    0.000 /home/aidan/.local/lib/python3.10/site-packages/ipykernel/iostream.py:429(_is_master_process)\n",
      "        1    0.000    0.000    0.000    0.000 /usr/lib/python3.10/threading.py:1169(is_alive)\n",
      "        1    0.000    0.000    0.000    0.000 /usr/lib/python3.10/pathlib.py:631(__fspath__)\n",
      "        1    0.000    0.000    0.000    0.000 /usr/lib/python3.10/contextlib.py:139(__exit__)\n",
      "        1    0.000    0.000    0.000    0.000 /usr/lib/python3.10/pathlib.py:621(__str__)\n",
      "\n",
      "\n"
     ]
    }
   ],
   "source": [
    "def scan_recursive(root):\n",
    "    with os.scandir(root) as directory:\n",
    "        for entry in directory:\n",
    "            yield entry.path\n",
    "            if entry.is_dir(follow_symlinks=False):\n",
    "                yield from scan_recursive(entry.path)\n",
    "\n",
    "profile(scan_recursive(Path.home()))"
   ]
  },
  {
   "cell_type": "markdown",
   "id": "ad47fd68-6610-4d09-9e0b-512cf2faca6a",
   "metadata": {},
   "source": [
    "## With vs. Without\n",
    "\n",
    "How much overhead is in the with machinery and posix.ScandirIterator.\\_\\_exit\\_\\_?"
   ]
  },
  {
   "cell_type": "code",
   "execution_count": 8,
   "id": "7f0810f4-b377-408d-ba13-a8f46d536bce",
   "metadata": {},
   "outputs": [
    {
     "name": "stdout",
     "output_type": "stream",
     "text": [
      "Profiling scan_without\n",
      "scan_without Iteration Profile\n",
      "                   818797 items\n",
      "                148974.22 items/sec\n",
      "                     5.50 secs\n",
      "\n",
      "         1912411 function calls in 5.496 seconds\n",
      "\n",
      "   Ordered by: cumulative time\n",
      "   List reduced from 32 to 15 due to restriction <15>\n",
      "\n",
      "   ncalls  tottime  percall  cumtime  percall filename:lineno(function)\n",
      "        1    1.028    1.028    5.496    5.496 /tmp/ipykernel_8719/1959693399.py:21(iterprofile)\n",
      "   818799    2.961    0.000    4.469    0.000 /tmp/ipykernel_8719/3629683583.py:1(scan_without)\n",
      "   818798    0.959    0.000    0.959    0.000 {method 'is_dir' of 'posix.DirEntry' objects}\n",
      "    91587    0.334    0.000    0.334    0.000 {built-in method posix.scandir}\n",
      "    91587    0.108    0.000    0.108    0.000 {method 'pop' of 'list' objects}\n",
      "    91586    0.106    0.000    0.106    0.000 {method 'append' of 'list' objects}\n",
      "        2    0.000    0.000    0.000    0.000 {built-in method builtins.print}\n",
      "        4    0.000    0.000    0.000    0.000 /home/aidan/.local/lib/python3.10/site-packages/ipykernel/iostream.py:518(write)\n",
      "        4    0.000    0.000    0.000    0.000 /home/aidan/.local/lib/python3.10/site-packages/ipykernel/iostream.py:448(_schedule_flush)\n",
      "        1    0.000    0.000    0.000    0.000 /home/aidan/.local/lib/python3.10/site-packages/ipykernel/iostream.py:202(schedule)\n",
      "        1    0.000    0.000    0.000    0.000 /home/aidan/.local/lib/python3.10/site-packages/zmq/sugar/socket.py:545(send)\n",
      "        1    0.000    0.000    0.000    0.000 /usr/lib/python3.10/threading.py:1169(is_alive)\n",
      "        4    0.000    0.000    0.000    0.000 /home/aidan/.local/lib/python3.10/site-packages/ipykernel/iostream.py:429(_is_master_process)\n",
      "        1    0.000    0.000    0.000    0.000 /usr/lib/python3.10/pathlib.py:631(__fspath__)\n",
      "        1    0.000    0.000    0.000    0.000 /usr/lib/python3.10/contextlib.py:139(__exit__)\n",
      "\n",
      "\n"
     ]
    }
   ],
   "source": [
    "def scan_without(root):\n",
    "    dirs = [root]\n",
    "    while dirs:\n",
    "        for entry in os.scandir(dirs.pop()):\n",
    "            yield entry.path\n",
    "            if entry.is_dir(follow_symlinks=False):\n",
    "                dirs.append(entry.path)\n",
    "\n",
    "profile(scan_without(Path.home()))"
   ]
  },
  {
   "cell_type": "markdown",
   "id": "7999e63b-37e0-4792-912a-cb2e7cfe9e85",
   "metadata": {},
   "source": [
    "## \"Micro-optimizations\"\n",
    "\n",
    "- Cache methods\n",
    "- Avoid the MRO on os.DirEntry.is_dir"
   ]
  },
  {
   "cell_type": "code",
   "execution_count": 9,
   "id": "fafc9976-7f19-4271-9845-062870b92573",
   "metadata": {},
   "outputs": [
    {
     "name": "stdout",
     "output_type": "stream",
     "text": [
      "Profiling scan_micro\n",
      "scan_micro Iteration Profile\n",
      "                   818797 items\n",
      "                149512.87 items/sec\n",
      "                     5.48 secs\n",
      "\n",
      "         1912411 function calls in 5.477 seconds\n",
      "\n",
      "   Ordered by: cumulative time\n",
      "   List reduced from 32 to 15 due to restriction <15>\n",
      "\n",
      "   ncalls  tottime  percall  cumtime  percall filename:lineno(function)\n",
      "        1    1.033    1.033    5.477    5.477 /tmp/ipykernel_8719/1959693399.py:21(iterprofile)\n",
      "   818799    2.929    0.000    4.443    0.000 /tmp/ipykernel_8719/2769856319.py:1(scan_micro)\n",
      "   818798    0.961    0.000    0.961    0.000 {method 'is_dir' of 'posix.DirEntry' objects}\n",
      "    91587    0.335    0.000    0.335    0.000 {built-in method posix.scandir}\n",
      "    91587    0.110    0.000    0.110    0.000 {method 'pop' of 'list' objects}\n",
      "    91586    0.107    0.000    0.107    0.000 {method 'append' of 'list' objects}\n",
      "        2    0.000    0.000    0.000    0.000 {built-in method builtins.print}\n",
      "        4    0.000    0.000    0.000    0.000 /home/aidan/.local/lib/python3.10/site-packages/ipykernel/iostream.py:518(write)\n",
      "        4    0.000    0.000    0.000    0.000 /home/aidan/.local/lib/python3.10/site-packages/ipykernel/iostream.py:448(_schedule_flush)\n",
      "        1    0.000    0.000    0.000    0.000 /home/aidan/.local/lib/python3.10/site-packages/ipykernel/iostream.py:202(schedule)\n",
      "        1    0.000    0.000    0.000    0.000 /home/aidan/.local/lib/python3.10/site-packages/zmq/sugar/socket.py:545(send)\n",
      "        4    0.000    0.000    0.000    0.000 /home/aidan/.local/lib/python3.10/site-packages/ipykernel/iostream.py:429(_is_master_process)\n",
      "        1    0.000    0.000    0.000    0.000 /usr/lib/python3.10/threading.py:1169(is_alive)\n",
      "        1    0.000    0.000    0.000    0.000 /usr/lib/python3.10/pathlib.py:631(__fspath__)\n",
      "        1    0.000    0.000    0.000    0.000 /usr/lib/python3.10/contextlib.py:139(__exit__)\n",
      "\n",
      "\n"
     ]
    }
   ],
   "source": [
    "def scan_micro(root):\n",
    "    dirs = [root]\n",
    "    pop = dirs.pop\n",
    "    append = dirs.append\n",
    "    scan = os.scandir\n",
    "    is_dir = os.DirEntry.is_dir\n",
    "    while dirs:\n",
    "        for entry in scan(pop()):\n",
    "            path = entry.path\n",
    "            yield path\n",
    "            if is_dir(entry, follow_symlinks=False):\n",
    "                append(path)\n",
    "\n",
    "profile(scan_micro(Path.home()))"
   ]
  },
  {
   "cell_type": "markdown",
   "id": "7ee6ba98-4972-4be1-9592-c980a4104293",
   "metadata": {},
   "source": [
    "## Try To Catch Us Now\n",
    "\n",
    "Let's switch to the root directory.\n",
    "We should also throw some try/catch up in here so it doesn't break."
   ]
  },
  {
   "cell_type": "code",
   "execution_count": 10,
   "id": "fea255bd-415d-4b95-a04e-d9965a1c41de",
   "metadata": {},
   "outputs": [
    {
     "name": "stdout",
     "output_type": "stream",
     "text": [
      "Profiling scan_safe\n",
      "scan_safe Iteration Profile\n",
      "                  1545753 items\n",
      "                154351.22 items/sec\n",
      "                    10.01 secs\n",
      "\n",
      "         3516442 function calls in 10.015 seconds\n",
      "\n",
      "   Ordered by: cumulative time\n",
      "   List reduced from 28 to 15 due to restriction <15>\n",
      "\n",
      "   ncalls  tottime  percall  cumtime  percall filename:lineno(function)\n",
      "        1    1.936    1.936   10.015   10.015 /tmp/ipykernel_8719/1959693399.py:21(iterprofile)\n",
      "  1545755    5.404    0.000    8.078    0.000 /tmp/ipykernel_8719/1862354549.py:1(scan_safe)\n",
      "  1545754    1.824    0.000    1.824    0.000 {method 'is_dir' of 'posix.DirEntry' objects}\n",
      "   141628    0.514    0.000    0.514    0.000 {built-in method posix.scandir}\n",
      "   141628    0.170    0.000    0.170    0.000 {method 'pop' of 'list' objects}\n",
      "   141627    0.166    0.000    0.166    0.000 {method 'append' of 'list' objects}\n",
      "        2    0.000    0.000    0.000    0.000 {built-in method builtins.print}\n",
      "        4    0.000    0.000    0.000    0.000 /home/aidan/.local/lib/python3.10/site-packages/ipykernel/iostream.py:518(write)\n",
      "        4    0.000    0.000    0.000    0.000 /home/aidan/.local/lib/python3.10/site-packages/ipykernel/iostream.py:448(_schedule_flush)\n",
      "        1    0.000    0.000    0.000    0.000 /home/aidan/.local/lib/python3.10/site-packages/ipykernel/iostream.py:202(schedule)\n",
      "        1    0.000    0.000    0.000    0.000 /home/aidan/.local/lib/python3.10/site-packages/zmq/sugar/socket.py:545(send)\n",
      "        4    0.000    0.000    0.000    0.000 /home/aidan/.local/lib/python3.10/site-packages/ipykernel/iostream.py:429(_is_master_process)\n",
      "        1    0.000    0.000    0.000    0.000 /usr/lib/python3.10/threading.py:1169(is_alive)\n",
      "        1    0.000    0.000    0.000    0.000 /usr/lib/python3.10/contextlib.py:139(__exit__)\n",
      "        1    0.000    0.000    0.000    0.000 {built-in method builtins.next}\n",
      "\n",
      "\n"
     ]
    }
   ],
   "source": [
    "def scan_safe(root):\n",
    "    dirs = [root]\n",
    "    pop = dirs.pop\n",
    "    append = dirs.append\n",
    "    scan = os.scandir\n",
    "    is_dir = os.DirEntry.is_dir\n",
    "    while dirs:\n",
    "        try:\n",
    "            for entry in scan(pop()):\n",
    "                path = entry.path\n",
    "                yield path\n",
    "                if is_dir(entry, follow_symlinks=False):\n",
    "                    append(path)\n",
    "        except OSError:\n",
    "            continue\n",
    "\n",
    "profile(scan_safe('/'))"
   ]
  },
  {
   "cell_type": "markdown",
   "id": "d7680650",
   "metadata": {},
   "source": [
    "## Cythonize Me Cap'n\n",
    "\n",
    "With python3.11 optimizations, cython is no longer a silver bullet here."
   ]
  },
  {
   "cell_type": "code",
   "execution_count": 11,
   "id": "a54fafea-dd0f-40b8-929e-6ad2012a3557",
   "metadata": {},
   "outputs": [],
   "source": [
    "%load_ext cython"
   ]
  },
  {
   "cell_type": "code",
   "execution_count": 27,
   "id": "fa9b0b6a-62e5-4afa-8df0-254f71afc172",
   "metadata": {},
   "outputs": [],
   "source": [
    "%%cython\n",
    "# cython: profile=True\n",
    "import os\n",
    "def scan_cython(root: str):\n",
    "    dirs: list[str] = [root]\n",
    "    pop = dirs.pop\n",
    "    append = dirs.append\n",
    "    scan = os.scandir\n",
    "    is_dir = os.DirEntry.is_dir\n",
    "    while dirs:\n",
    "        try:\n",
    "            for entry in scan(pop()):\n",
    "                path = entry.path\n",
    "                yield path\n",
    "                if is_dir(entry, follow_symlinks=False):\n",
    "                    append(path)\n",
    "        except OSError:\n",
    "            continue"
   ]
  },
  {
   "cell_type": "code",
   "execution_count": 29,
   "id": "a61216c6-cd96-4846-8204-fa6bc9dcba23",
   "metadata": {},
   "outputs": [
    {
     "name": "stdout",
     "output_type": "stream",
     "text": [
      "Profiling scan_cython\n",
      "scan_cython Iteration Profile\n",
      "                  1545689 items\n",
      "                287418.19 items/sec\n",
      "                     5.38 secs\n",
      "\n",
      "         1545741 function calls in 5.378 seconds\n",
      "\n",
      "   Ordered by: cumulative time\n",
      "   List reduced from 24 to 15 due to restriction <15>\n",
      "\n",
      "   ncalls  tottime  percall  cumtime  percall filename:lineno(function)\n",
      "        1    2.011    2.011    5.378    5.378 /tmp/ipykernel_8719/1959693399.py:21(iterprofile)\n",
      "  1545691    3.367    0.000    3.367    0.000 /home/aidan/.cache/ipython/cython/_cython_magic_79c0fa68394ae6eb1c3f12e916a069c9.pyx:3(scan_cython)\n",
      "        2    0.000    0.000    0.000    0.000 {built-in method builtins.print}\n",
      "        4    0.000    0.000    0.000    0.000 /home/aidan/.local/lib/python3.10/site-packages/ipykernel/iostream.py:518(write)\n",
      "        4    0.000    0.000    0.000    0.000 /home/aidan/.local/lib/python3.10/site-packages/ipykernel/iostream.py:448(_schedule_flush)\n",
      "        1    0.000    0.000    0.000    0.000 /home/aidan/.local/lib/python3.10/site-packages/ipykernel/iostream.py:202(schedule)\n",
      "        1    0.000    0.000    0.000    0.000 /home/aidan/.local/lib/python3.10/site-packages/zmq/sugar/socket.py:545(send)\n",
      "        4    0.000    0.000    0.000    0.000 /home/aidan/.local/lib/python3.10/site-packages/ipykernel/iostream.py:429(_is_master_process)\n",
      "        1    0.000    0.000    0.000    0.000 /usr/lib/python3.10/threading.py:1169(is_alive)\n",
      "        1    0.000    0.000    0.000    0.000 /usr/lib/python3.10/contextlib.py:139(__exit__)\n",
      "        1    0.000    0.000    0.000    0.000 /usr/lib/python3.10/threading.py:1102(_wait_for_tstate_lock)\n",
      "        1    0.000    0.000    0.000    0.000 {built-in method builtins.next}\n",
      "        3    0.000    0.000    0.000    0.000 {built-in method time.perf_counter}\n",
      "        4    0.000    0.000    0.000    0.000 {built-in method posix.getpid}\n",
      "        4    0.000    0.000    0.000    0.000 {method 'write' of '_io.StringIO' objects}\n",
      "\n",
      "\n"
     ]
    }
   ],
   "source": [
    "profile(scan_cython('/'))"
   ]
  },
  {
   "cell_type": "code",
   "execution_count": 14,
   "id": "14ce6de9-a044-4cc6-b11e-704f17d0f5c9",
   "metadata": {},
   "outputs": [
    {
     "name": "stdout",
     "output_type": "stream",
     "text": [
      "Profiling make_index\n",
      "1542416\n",
      "         3084869 function calls in 9.486 seconds\n",
      "\n",
      "   Ordered by: cumulative time\n",
      "   List reduced from 28 to 15 due to restriction <15>\n",
      "\n",
      "   ncalls  tottime  percall  cumtime  percall filename:lineno(function)\n",
      "        1    4.106    4.106    9.486    9.486 /tmp/ipykernel_8719/2017511231.py:1(make_index)\n",
      "  1542418    3.404    0.000    3.404    0.000 /home/aidan/.cache/ipython/cython/_cython_magic_79c0fa68394ae6eb1c3f12e916a069c9.pyx:3(scan_cython)\n",
      "  1542417    1.975    0.000    1.975    0.000 {method 'write' of '_io.TextIOWrapper' objects}\n",
      "        1    0.000    0.000    0.000    0.000 {built-in method io.open}\n",
      "        1    0.000    0.000    0.000    0.000 {built-in method builtins.print}\n",
      "        2    0.000    0.000    0.000    0.000 /home/aidan/.local/lib/python3.10/site-packages/ipykernel/iostream.py:518(write)\n",
      "        1    0.000    0.000    0.000    0.000 {method '__exit__' of '_io._IOBase' objects}\n",
      "        2    0.000    0.000    0.000    0.000 /home/aidan/.local/lib/python3.10/site-packages/ipykernel/iostream.py:448(_schedule_flush)\n",
      "        1    0.000    0.000    0.000    0.000 /home/aidan/.local/lib/python3.10/site-packages/ipykernel/iostream.py:202(schedule)\n",
      "        1    0.000    0.000    0.000    0.000 /home/aidan/.local/lib/python3.10/site-packages/zmq/sugar/socket.py:545(send)\n",
      "        1    0.000    0.000    0.000    0.000 /usr/lib/python3.10/threading.py:1169(is_alive)\n",
      "        1    0.000    0.000    0.000    0.000 /usr/lib/python3.10/contextlib.py:139(__exit__)\n",
      "        2    0.000    0.000    0.000    0.000 /home/aidan/.local/lib/python3.10/site-packages/ipykernel/iostream.py:429(_is_master_process)\n",
      "        1    0.000    0.000    0.000    0.000 {built-in method builtins.next}\n",
      "        1    0.000    0.000    0.000    0.000 /usr/lib/python3.10/threading.py:1102(_wait_for_tstate_lock)\n",
      "\n",
      "\n"
     ]
    }
   ],
   "source": [
    "def make_index(path: str, root: str = '/'):\n",
    "    with open(path, 'w') as file:\n",
    "        for i, entry in enumerate(scan_cython(root)):\n",
    "            file.write('\\n'+entry)\n",
    "    return i\n",
    "\n",
    "with profiler('make_index'):\n",
    "    print(make_index('fs_index'))\n"
   ]
  },
  {
   "cell_type": "code",
   "execution_count": 40,
   "id": "7e013b99",
   "metadata": {},
   "outputs": [],
   "source": [
    "%%cython\n",
    "# cython: profile=True\n",
    "import os\n",
    "def scan_cython(root: str):\n",
    "    dirs: list[str] = [root]\n",
    "    pop = dirs.pop\n",
    "    append = dirs.append\n",
    "    scan = os.scandir\n",
    "    is_dir = os.DirEntry.is_dir\n",
    "    while dirs:\n",
    "        try:\n",
    "            for entry in scan(pop()):\n",
    "                path = entry.path\n",
    "                yield path\n",
    "                if is_dir(entry, follow_symlinks=False):\n",
    "                    append(path)\n",
    "        except OSError:\n",
    "            continue\n",
    "def make_index_cython(path: str, root: str = '/'):\n",
    "    with open(path, 'w') as file:\n",
    "        for i, entry in enumerate(scan_cython(root)):\n",
    "            file.write('\\n'+entry)\n",
    "    return i"
   ]
  },
  {
   "cell_type": "code",
   "execution_count": 41,
   "id": "4f5cd98d",
   "metadata": {},
   "outputs": [
    {
     "name": "stdout",
     "output_type": "stream",
     "text": [
      "Profiling make_index\n",
      "1545252\n",
      "         1545286 function calls in 5.714 seconds\n",
      "\n",
      "   Ordered by: cumulative time\n",
      "   List reduced from 25 to 15 due to restriction <15>\n",
      "\n",
      "   ncalls  tottime  percall  cumtime  percall filename:lineno(function)\n",
      "        1    0.000    0.000    5.714    5.714 {_cython_magic_8f03452f3f940590e7d7ea9fcc878e10.make_index_cython}\n",
      "        1    2.361    2.361    5.714    5.714 /home/aidan/.cache/ipython/cython/_cython_magic_8f03452f3f940590e7d7ea9fcc878e10.pyx:18(make_index_cython)\n",
      "  1545254    3.353    0.000    3.353    0.000 /home/aidan/.cache/ipython/cython/_cython_magic_8f03452f3f940590e7d7ea9fcc878e10.pyx:3(scan_cython)\n",
      "        1    0.000    0.000    0.000    0.000 {built-in method builtins.print}\n",
      "        2    0.000    0.000    0.000    0.000 /home/aidan/.local/lib/python3.10/site-packages/ipykernel/iostream.py:518(write)\n",
      "        2    0.000    0.000    0.000    0.000 /home/aidan/.local/lib/python3.10/site-packages/ipykernel/iostream.py:448(_schedule_flush)\n",
      "        1    0.000    0.000    0.000    0.000 /home/aidan/.local/lib/python3.10/site-packages/ipykernel/iostream.py:202(schedule)\n",
      "        1    0.000    0.000    0.000    0.000 /home/aidan/.local/lib/python3.10/site-packages/zmq/sugar/socket.py:545(send)\n",
      "        1    0.000    0.000    0.000    0.000 /usr/lib/python3.10/threading.py:1169(is_alive)\n",
      "        1    0.000    0.000    0.000    0.000 /usr/lib/python3.10/contextlib.py:139(__exit__)\n",
      "        2    0.000    0.000    0.000    0.000 /home/aidan/.local/lib/python3.10/site-packages/ipykernel/iostream.py:429(_is_master_process)\n",
      "        1    0.000    0.000    0.000    0.000 {built-in method builtins.next}\n",
      "        1    0.000    0.000    0.000    0.000 /usr/lib/python3.10/threading.py:1102(_wait_for_tstate_lock)\n",
      "        1    0.000    0.000    0.000    0.000 /tmp/ipykernel_8719/1959693399.py:10(profiler)\n",
      "        1    0.000    0.000    0.000    0.000 /usr/lib/python3.10/codecs.py:186(__init__)\n",
      "\n",
      "\n"
     ]
    }
   ],
   "source": [
    "\n",
    "with profiler('make_index'):\n",
    "    print(make_index_cython('fs_index'))"
   ]
  },
  {
   "cell_type": "code",
   "execution_count": 42,
   "id": "eb14250b",
   "metadata": {},
   "outputs": [],
   "source": [
    "%%cython\n",
    "# cython: profile=True\n",
    "import os\n",
    "def make_index_deep_cython(path: str, root: str = '/'):\n",
    "    dirs: list[str] = [root]\n",
    "    pop = dirs.pop\n",
    "    append = dirs.append\n",
    "    scan = os.scandir\n",
    "    is_dir = os.DirEntry.is_dir\n",
    "    i: int = 0\n",
    "    with open(path, 'w') as file:\n",
    "        while dirs:\n",
    "            try:\n",
    "                for entry in scan(pop()):\n",
    "                    path = entry.path\n",
    "                    file.write('\\n'+path)\n",
    "                    i += 1\n",
    "                    if is_dir(entry, follow_symlinks=False):\n",
    "                        append(path)\n",
    "            except OSError:\n",
    "                continue\n",
    "    return i"
   ]
  },
  {
   "cell_type": "code",
   "execution_count": 43,
   "id": "24a433c6",
   "metadata": {},
   "outputs": [
    {
     "name": "stdout",
     "output_type": "stream",
     "text": [
      "Profiling make_index_deep_cython\n",
      "1546012\n",
      "         32 function calls in 1.865 seconds\n",
      "\n",
      "   Ordered by: cumulative time\n",
      "   List reduced from 24 to 15 due to restriction <15>\n",
      "\n",
      "   ncalls  tottime  percall  cumtime  percall filename:lineno(function)\n",
      "        1    0.000    0.000    1.865    1.865 {_cython_magic_c615842ec37d7fc7112c7bdd4541f406.make_index_deep_cython}\n",
      "        1    1.865    1.865    1.865    1.865 /home/aidan/.cache/ipython/cython/_cython_magic_c615842ec37d7fc7112c7bdd4541f406.pyx:3(make_index_deep_cython)\n",
      "        1    0.000    0.000    0.000    0.000 {built-in method builtins.print}\n",
      "        2    0.000    0.000    0.000    0.000 /home/aidan/.local/lib/python3.10/site-packages/ipykernel/iostream.py:518(write)\n",
      "        2    0.000    0.000    0.000    0.000 /home/aidan/.local/lib/python3.10/site-packages/ipykernel/iostream.py:448(_schedule_flush)\n",
      "        1    0.000    0.000    0.000    0.000 /home/aidan/.local/lib/python3.10/site-packages/ipykernel/iostream.py:202(schedule)\n",
      "        1    0.000    0.000    0.000    0.000 /home/aidan/.local/lib/python3.10/site-packages/zmq/sugar/socket.py:545(send)\n",
      "        1    0.000    0.000    0.000    0.000 /usr/lib/python3.10/contextlib.py:139(__exit__)\n",
      "        1    0.000    0.000    0.000    0.000 {built-in method builtins.next}\n",
      "        1    0.000    0.000    0.000    0.000 /usr/lib/python3.10/threading.py:1169(is_alive)\n",
      "        1    0.000    0.000    0.000    0.000 /tmp/ipykernel_8719/1959693399.py:10(profiler)\n",
      "        2    0.000    0.000    0.000    0.000 /home/aidan/.local/lib/python3.10/site-packages/ipykernel/iostream.py:429(_is_master_process)\n",
      "        1    0.000    0.000    0.000    0.000 /usr/lib/python3.10/threading.py:1102(_wait_for_tstate_lock)\n",
      "        2    0.000    0.000    0.000    0.000 {method 'write' of '_io.StringIO' objects}\n",
      "        2    0.000    0.000    0.000    0.000 {built-in method posix.getpid}\n",
      "\n",
      "\n"
     ]
    }
   ],
   "source": [
    "with profiler('make_index_deep_cython'):\n",
    "    print(make_index_deep_cython('fs_index'))"
   ]
  },
  {
   "cell_type": "code",
   "execution_count": 44,
   "id": "75933a9c",
   "metadata": {},
   "outputs": [],
   "source": [
    "import re\n",
    "def search_index(pat, path='fs_index'):\n",
    "    pat = re.compile(pat)\n",
    "    with open(path) as file:\n",
    "        yield from (ln for ln in file if pat.match(ln))"
   ]
  },
  {
   "cell_type": "code",
   "execution_count": 45,
   "id": "7555120f",
   "metadata": {},
   "outputs": [
    {
     "name": "stdout",
     "output_type": "stream",
     "text": [
      "52841\n",
      "CPU times: user 438 ms, sys: 73.8 ms, total: 511 ms\n",
      "Wall time: 468 ms\n"
     ]
    }
   ],
   "source": [
    "%time print(len(list(search_index('.*\\.py$'))))"
   ]
  },
  {
   "cell_type": "code",
   "execution_count": null,
   "id": "4c8255fd",
   "metadata": {},
   "outputs": [],
   "source": []
  }
 ],
 "metadata": {
  "kernelspec": {
   "display_name": "Python 3 (ipykernel)",
   "language": "python",
   "name": "python3"
  },
  "language_info": {
   "codemirror_mode": {
    "name": "ipython",
    "version": 3
   },
   "file_extension": ".py",
   "mimetype": "text/x-python",
   "name": "python",
   "nbconvert_exporter": "python",
   "pygments_lexer": "ipython3",
   "version": "3.10.8"
  },
  "vscode": {
   "interpreter": {
    "hash": "aead2bc5ee0458c930ad6e8e8c2c001afe3e080a4ac7b443f6b2206104367879"
   }
  }
 },
 "nbformat": 4,
 "nbformat_minor": 5
}
